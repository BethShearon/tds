{
 "cells": [
  {
   "cell_type": "markdown",
   "metadata": {},
   "source": [
    "# 2018-09-10: Welcome! ( + Installation)\n",
    "## Goals:\n",
    "- [ ] Introduction (*Who are you? What is your background? What brings you here?*)\n",
    "- [ ] Download class materials using git\n",
    "- [ ] Setup our working environment using Conda\n",
    "- [ ] Activate and test our working environment using example script\n",
    "\n",
    "#### Zach reminders:\n",
    "- [ ] Stream\n",
    "- [ ] Push latest code\n",
    "- [ ] Take photo of event\n",
    "- [ ] Pass out sign-in sheet\n"
   ]
  },
  {
   "cell_type": "markdown",
   "metadata": {},
   "source": [
    "________"
   ]
  },
  {
   "cell_type": "markdown",
   "metadata": {},
   "source": [
    "# Sign into Slack"
   ]
  },
  {
   "cell_type": "markdown",
   "metadata": {},
   "source": [
    "***"
   ]
  },
  {
   "cell_type": "markdown",
   "metadata": {},
   "source": [
    "## Download Class Materials\n",
    "\n",
    "### Install Git\n",
    "- Create a github account first, if you haven't one already\n",
    "- Download the git console at: https://git-scm.com/\n",
    "- Follow git console installation instructions    \n",
    "    \n",
    "    \n",
    "### Clone class repository\n",
    "#### Navigate to your desired project folder (I keep mine under '/Users/shegocaga/documents/')\n",
    "- Terminal/Command Line navigation cheat sheet: https://www.git-tower.com/blog/command-line-cheat-sheet/ \n",
    "    - __Hint__: Tab is your best friend!\n",
    "    \n",
    "#### Windows: use 'git bash'\n",
    "- Navigate to your preferred folder for our projects\n",
    "    - __Hint__ (if you want to cheat): \n",
    "        - Shift + Right-click destination folder in file explorer, and select 'Copy as path'\n",
    "        - Type 'cd' command in git bash, then paste using Ctrl+V\n",
    "- Clone the class repository: (*Remind me to Slack this command!*)\n",
    "> `git clone https://github.com/zachandfox/TDS-python-nn-18-fall.git`\n",
    "- Navigate into the repo folder, with command:\n",
    "> `cd TDS-python-nn-18-fall`\n",
    "    \n",
    "#### Linux, MacOS: use 'terminal'\n",
    "- Navigate to your preferred folder for our projects\n",
    "    - __Hint__ (if you want to cheat):\n",
    "        - Right-click destination folder, then press option button to select 'copy as pathname' option\n",
    "        - Paste using Ctrl+V\n",
    "- Clone the class repository: (*Remind me to Slack this command!*)\n",
    "> `git clone https://github.com/zachandfox/TDS-python-nn-18-fall.git`\n",
    "- Navigate into the repo folder, with command:\n",
    "> `cd TDS-python-nn-18-fall`"
   ]
  },
  {
   "cell_type": "markdown",
   "metadata": {},
   "source": [
    "#### <font color = green> *Checkpoint! (Help your neighbors!)* </font>"
   ]
  },
  {
   "cell_type": "markdown",
   "metadata": {},
   "source": [
    "__________________________________________"
   ]
  },
  {
   "cell_type": "markdown",
   "metadata": {},
   "source": [
    "## Activate (Conda) Work Environment\n",
    "- Conda Cheat Sheet: https://conda.io/docs/_downloads/conda-cheatsheet.pdf\n",
    "\n",
    "### Install Anaconda\n",
    "- Download Anaconda installer (for Python 3.6) at: https://www.anaconda.com/\n",
    "- Follow installation instructions:\n",
    "\n",
    "<br>\n",
    "\n",
    "### Install environment from .yml file\n",
    "#### Windows\n",
    "- Using the __Anaconda Prompt__, navigate to: <br>\n",
    "> `<Your Repo Download Path>/TDS-python-nn-18-fall/lecture_materials/2018-09-10-Welcome/`\n",
    "- Type `dir` to see the files in your current directory, you should see a `tds-windows.yml` file\n",
    "- Use command <br>\n",
    "> `conda env create -f tds-windows.yml`\n",
    "- (You should now see Conda installing the environment)\n",
    "\n",
    "<br>\n",
    "\n",
    "#### Linux, MacOS\n",
    "- Using terminal, navigate to: <br>\n",
    "> `<Your Repo Download Path>/TDS-python-nn-18-fall/lecture_materials/2018-09-10-Welcome/`\n",
    "- Type `ls` to see the files in your current directory, you should see a `tds-linux.yml` (for Linux) and `tds-mac.yml` (for macOS) files\n",
    "- For Linux, use command <br>\n",
    "> `conda env create -f tds-linux.yml`\n",
    "- For macOS, use command <br>\n",
    "> `conda env create -f tds-mac.yml`\n",
    "- (You should now see Conda installing the environment)\n",
    "\n",
    "<br>\n",
    "\n",
    "### Activate Your Environment\n",
    "#### Windows:\n",
    "> `activate tds`\n",
    "\n",
    "#### Linux, MacOS\n",
    "> `source activate tds`"
   ]
  },
  {
   "cell_type": "markdown",
   "metadata": {},
   "source": [
    "#### <font color = green> *Checkpoint!* </font>"
   ]
  },
  {
   "cell_type": "markdown",
   "metadata": {},
   "source": [
    "___________"
   ]
  },
  {
   "cell_type": "markdown",
   "metadata": {},
   "source": [
    "## Test Environment (Run a Jupyter Notebook!)\n",
    "Type in Git Bash/Terminal:\n",
    "> `jupyter notebook`"
   ]
  },
  {
   "cell_type": "markdown",
   "metadata": {},
   "source": [
    "#### <font color = green> *Checkpoint!* </font>"
   ]
  },
  {
   "cell_type": "markdown",
   "metadata": {},
   "source": [
    "***"
   ]
  },
  {
   "cell_type": "markdown",
   "metadata": {},
   "source": [
    "##### Zach Followup:\n",
    "- [] Post stream to YouTube\n",
    "    - [] Link to video on this notebook\n",
    "- [] Hosts' meeting? \n",
    "- [ ] Next *Activity* component?"
   ]
  },
  {
   "cell_type": "code",
   "execution_count": null,
   "metadata": {},
   "outputs": [],
   "source": []
  }
 ],
 "metadata": {
  "kernelspec": {
   "display_name": "Python 3",
   "language": "python",
   "name": "python3"
  },
  "language_info": {
   "codemirror_mode": {
    "name": "ipython",
    "version": 3
   },
   "file_extension": ".py",
   "mimetype": "text/x-python",
   "name": "python",
   "nbconvert_exporter": "python",
   "pygments_lexer": "ipython3",
   "version": "3.5.4"
  }
 },
 "nbformat": 4,
 "nbformat_minor": 2
}
