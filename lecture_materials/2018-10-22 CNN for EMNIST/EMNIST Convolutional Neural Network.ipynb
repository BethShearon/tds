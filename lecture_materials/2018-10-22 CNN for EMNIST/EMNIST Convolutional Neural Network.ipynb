{
 "cells": [
  {
   "cell_type": "markdown",
   "metadata": {},
   "source": [
    "# Convolutional Neural Network (CNN) for the EMNIST dataset\n",
    "\n",
    "-----\n",
    "### EMNIST dataset: https://www.nist.gov/itl/iad/image-group/emnist-dataset\n",
    "### Direct download: http://www.itl.nist.gov/iaui/vip/cs_links/EMNIST/gzip.zip\n",
    "-----\n",
    "#### A very well-written introduction to Convolutional Neural Networks: [Part 1](https://adeshpande3.github.io/adeshpande3.github.io/A-Beginner's-Guide-To-Understanding-Convolutional-Neural-Networks/) [Part 2](https://adeshpande3.github.io/adeshpande3.github.io/A-Beginner's-Guide-To-Understanding-Convolutional-Neural-Networks-Part-2/) [Part 3](https://adeshpande3.github.io/adeshpande3.github.io/The-9-Deep-Learning-Papers-You-Need-To-Know-About.html)"
   ]
  },
  {
   "cell_type": "markdown",
   "metadata": {},
   "source": [
    "### Import necessary modules:"
   ]
  },
  {
   "cell_type": "code",
   "execution_count": 1,
   "metadata": {},
   "outputs": [
    {
     "name": "stderr",
     "output_type": "stream",
     "text": [
      "Using TensorFlow backend.\n"
     ]
    }
   ],
   "source": [
    "import os\n",
    "#os.environ['CUDA_VISIBLE_DEVICES'] = '' # hides the GPU from tensorflow (for science)\n",
    "\n",
    "import gzip\n",
    "import keras\n",
    "import matplotlib.pyplot as plt\n",
    "import numpy as np\n",
    "import random\n",
    "import struct\n",
    "import time"
   ]
  },
  {
   "cell_type": "markdown",
   "metadata": {},
   "source": [
    "### List computing devices available to tensorflow:"
   ]
  },
  {
   "cell_type": "code",
   "execution_count": 2,
   "metadata": {},
   "outputs": [
    {
     "data": {
      "text/plain": [
       "['/device:CPU:0', '/device:GPU:0']"
      ]
     },
     "execution_count": 2,
     "metadata": {},
     "output_type": "execute_result"
    }
   ],
   "source": [
    "from tensorflow.python.client import device_lib\n",
    "device_list = device_lib.list_local_devices()\n",
    "[x.name for x in device_list]"
   ]
  },
  {
   "cell_type": "markdown",
   "metadata": {},
   "source": [
    "### Set up global configuration for the notebook:"
   ]
  },
  {
   "cell_type": "code",
   "execution_count": 3,
   "metadata": {},
   "outputs": [],
   "source": [
    "%matplotlib inline\n",
    "random.seed(12345)\n",
    "\n",
    "image_dir = '/home/jaeger/dev/python/emnist/gzip'\n",
    "labels = '0123456789ABCDEFGHIJKLMNOPQRSTUVWXYZabcdefghijklmnopqrstuvwxyz'\n",
    "categories = len(labels)\n",
    "\n",
    "batch_size = 1024\n",
    "epochs = 50\n",
    "\n",
    "model_path = '/home/jaeger/dev/python/emnist/emnist_cnn_model.h5'"
   ]
  },
  {
   "cell_type": "markdown",
   "metadata": {},
   "source": [
    "### Define helper functions and read the dataset from disk:"
   ]
  },
  {
   "cell_type": "code",
   "execution_count": 4,
   "metadata": {},
   "outputs": [
    {
     "name": "stdout",
     "output_type": "stream",
     "text": [
      "Processing data from /home/jaeger/dev/python/emnist/gzip/emnist-byclass-train-images-idx3-ubyte.gz.\n",
      "Dimensions: 3\n",
      "Shape: (697932, 28, 28)\n",
      "Processing data from /home/jaeger/dev/python/emnist/gzip/emnist-byclass-train-labels-idx1-ubyte.gz.\n",
      "Dimensions: 1\n",
      "Shape: (697932,)\n",
      "Processing data from /home/jaeger/dev/python/emnist/gzip/emnist-byclass-test-images-idx3-ubyte.gz.\n",
      "Dimensions: 3\n",
      "Shape: (116323, 28, 28)\n",
      "Processing data from /home/jaeger/dev/python/emnist/gzip/emnist-byclass-test-labels-idx1-ubyte.gz.\n",
      "Dimensions: 1\n",
      "Shape: (116323,)\n"
     ]
    }
   ],
   "source": [
    "def read_idx(filename):\n",
    "    # the idx file format can be found at the bottom of http://yann.lecun.com/exdb/mnist/\n",
    "    print('Processing data from %s.' % filename)\n",
    "    with gzip.open(filename, 'rb') as f:\n",
    "        # read the \"magic number\" first\n",
    "        z, dtype, dim = struct.unpack('>HBB', f.read(4))\n",
    "        print('Dimensions:', dim)\n",
    "        # get the shape (size in each dimension) of the data\n",
    "        shape = tuple(struct.unpack('>I', f.read(4))[0] for d in range(dim))\n",
    "        print('Shape:', shape)\n",
    "        # return the data as a reshaped numpy array\n",
    "        return np.frombuffer(f.read(), dtype=np.uint8).reshape(shape)\n",
    "\n",
    "def load_emnist():\n",
    "    # the dataset can be found here: http://www.itl.nist.gov/iaui/vip/cs_links/EMNIST/gzip.zip\n",
    "    train_images = os.path.join(image_dir, 'emnist-byclass-train-images-idx3-ubyte.gz')\n",
    "    train_labels = os.path.join(image_dir, 'emnist-byclass-train-labels-idx1-ubyte.gz')\n",
    "    test_images = os.path.join(image_dir, 'emnist-byclass-test-images-idx3-ubyte.gz')\n",
    "    test_labels = os.path.join(image_dir, 'emnist-byclass-test-labels-idx1-ubyte.gz')\n",
    "\n",
    "    train_X = read_idx(train_images)\n",
    "    train_y = read_idx(train_labels)\n",
    "    test_X = read_idx(test_images)\n",
    "    test_y = read_idx(test_labels)\n",
    "    \n",
    "    return (train_X, train_y, test_X, test_y)\n",
    "\n",
    "raw_train_X, raw_train_y, raw_test_X, raw_test_y = load_emnist()"
   ]
  },
  {
   "cell_type": "markdown",
   "metadata": {},
   "source": [
    "### Display a random image to verify that the data loaded correctly:"
   ]
  },
  {
   "cell_type": "code",
   "execution_count": 5,
   "metadata": {},
   "outputs": [
    {
     "name": "stdout",
     "output_type": "stream",
     "text": [
      "(697932, 28, 28) (697932,) (116323, 28, 28) (116323,)\n"
     ]
    },
    {
     "data": {
      "image/png": "[encoded data removed]",
      "text/plain": [
       "<Figure size 432x288 with 1 Axes>"
      ]
     },
     "metadata": {
      "needs_background": "light"
     },
     "output_type": "display_data"
    }
   ],
   "source": [
    "print(raw_train_X.shape, raw_train_y.shape, raw_test_X.shape, raw_test_y.shape)\n",
    "\n",
    "i = random.randint(0, raw_train_X.shape[0])\n",
    "fig, ax = plt.subplots()\n",
    "ax.clear()\n",
    "ax.imshow(raw_train_X[i].T, cmap='gray')\n",
    "title = 'label = %d = %s' % (raw_train_y[i], labels[raw_train_y[i]])\n",
    "ax.set_title(title, fontsize=20)\n",
    "plt.show()"
   ]
  },
  {
   "cell_type": "markdown",
   "metadata": {},
   "source": [
    "### Normalize the training and testing input data:"
   ]
  },
  {
   "cell_type": "code",
   "execution_count": 6,
   "metadata": {},
   "outputs": [],
   "source": [
    "train_X = raw_train_X.astype('float32')\n",
    "test_X = raw_test_X.astype('float32')\n",
    "\n",
    "train_X /= 255\n",
    "test_X /= 255"
   ]
  },
  {
   "cell_type": "markdown",
   "metadata": {},
   "source": [
    "### Reshape the input data for input to the CNN:"
   ]
  },
  {
   "cell_type": "code",
   "execution_count": 7,
   "metadata": {},
   "outputs": [],
   "source": [
    "train_X = train_X.reshape(train_X.shape[0], 28, 28, 1)\n",
    "test_X = test_X.reshape(test_X.shape[0], 28, 28, 1)"
   ]
  },
  {
   "cell_type": "markdown",
   "metadata": {},
   "source": [
    "### One-hot encode the output (labels) data:"
   ]
  },
  {
   "cell_type": "code",
   "execution_count": 8,
   "metadata": {},
   "outputs": [],
   "source": [
    "train_y = keras.utils.np_utils.to_categorical(raw_train_y)\n",
    "test_y = keras.utils.np_utils.to_categorical(raw_test_y)"
   ]
  },
  {
   "cell_type": "markdown",
   "metadata": {},
   "source": [
    "### Define the CNN model:"
   ]
  },
  {
   "cell_type": "code",
   "execution_count": 9,
   "metadata": {},
   "outputs": [],
   "source": [
    "model = keras.models.Sequential()\n",
    "model.add(keras.layers.Conv2D(32,\n",
    "                kernel_size=(5, 5),\n",
    "                strides=(2, 2),\n",
    "                input_shape=(28, 28, 1),\n",
    "                activation='relu'))\n",
    "model.add(keras.layers.Conv2D(64,\n",
    "                kernel_size=(3, 3),\n",
    "                activation='relu'))\n",
    "model.add(keras.layers.MaxPooling2D(pool_size=(2, 2)))\n",
    "model.add(keras.layers.Dropout(0.25))\n",
    "model.add(keras.layers.Flatten())\n",
    "model.add(keras.layers.Dense(128, activation='relu'))\n",
    "model.add(keras.layers.Dropout(0.25))\n",
    "model.add(keras.layers.Dense(categories, activation='softmax'))"
   ]
  },
  {
   "cell_type": "markdown",
   "metadata": {},
   "source": [
    "### Compile the model:"
   ]
  },
  {
   "cell_type": "code",
   "execution_count": 10,
   "metadata": {},
   "outputs": [],
   "source": [
    "model.compile(loss='categorical_crossentropy', optimizer='adam', metrics=['accuracy'])"
   ]
  },
  {
   "cell_type": "markdown",
   "metadata": {},
   "source": [
    "### Train the model, saving historical data to graph:"
   ]
  },
  {
   "cell_type": "code",
   "execution_count": 11,
   "metadata": {
    "scrolled": true
   },
   "outputs": [
    {
     "name": "stdout",
     "output_type": "stream",
     "text": [
      "Train on 697932 samples, validate on 116323 samples\n",
      "Epoch 1/50\n",
      "697932/697932 [==============================] - 9s 13us/step - loss: 0.8568 - acc: 0.7453 - val_loss: 0.4536 - val_acc: 0.8411\n",
      "Epoch 2/50\n",
      "697932/697932 [==============================] - 8s 12us/step - loss: 0.5036 - acc: 0.8277 - val_loss: 0.4102 - val_acc: 0.8532\n",
      "Epoch 3/50\n",
      "697932/697932 [==============================] - 8s 12us/step - loss: 0.4604 - acc: 0.8397 - val_loss: 0.3905 - val_acc: 0.8584\n",
      "Epoch 4/50\n",
      "697932/697932 [==============================] - 8s 12us/step - loss: 0.4383 - acc: 0.8455 - val_loss: 0.3811 - val_acc: 0.8601\n",
      "Epoch 5/50\n",
      "697932/697932 [==============================] - 8s 12us/step - loss: 0.4234 - acc: 0.8491 - val_loss: 0.3738 - val_acc: 0.8619\n",
      "Epoch 6/50\n",
      "697932/697932 [==============================] - 8s 12us/step - loss: 0.4135 - acc: 0.8516 - val_loss: 0.3694 - val_acc: 0.8625\n",
      "Epoch 7/50\n",
      "697932/697932 [==============================] - 8s 12us/step - loss: 0.4063 - acc: 0.8541 - val_loss: 0.3640 - val_acc: 0.8652\n",
      "Epoch 8/50\n",
      "697932/697932 [==============================] - 8s 12us/step - loss: 0.4004 - acc: 0.8552 - val_loss: 0.3626 - val_acc: 0.8651\n",
      "Epoch 9/50\n",
      "697932/697932 [==============================] - 8s 12us/step - loss: 0.3953 - acc: 0.8566 - val_loss: 0.3572 - val_acc: 0.8672\n",
      "Epoch 10/50\n",
      "697932/697932 [==============================] - 8s 12us/step - loss: 0.3908 - acc: 0.8577 - val_loss: 0.3580 - val_acc: 0.8673\n",
      "Epoch 11/50\n",
      "697932/697932 [==============================] - 8s 12us/step - loss: 0.3867 - acc: 0.8586 - val_loss: 0.3553 - val_acc: 0.8673\n",
      "Epoch 12/50\n",
      "697932/697932 [==============================] - 8s 12us/step - loss: 0.3829 - acc: 0.8596 - val_loss: 0.3536 - val_acc: 0.8679\n",
      "Epoch 13/50\n",
      "697932/697932 [==============================] - 8s 12us/step - loss: 0.3801 - acc: 0.8605 - val_loss: 0.3540 - val_acc: 0.8679\n",
      "Epoch 14/50\n",
      "697932/697932 [==============================] - 8s 12us/step - loss: 0.3770 - acc: 0.8615 - val_loss: 0.3511 - val_acc: 0.8698\n",
      "Epoch 15/50\n",
      "697932/697932 [==============================] - 8s 12us/step - loss: 0.3757 - acc: 0.8614 - val_loss: 0.3489 - val_acc: 0.8700\n",
      "Epoch 16/50\n",
      "697932/697932 [==============================] - 8s 12us/step - loss: 0.3733 - acc: 0.8624 - val_loss: 0.3489 - val_acc: 0.8700\n",
      "Epoch 17/50\n",
      "697932/697932 [==============================] - 8s 12us/step - loss: 0.3706 - acc: 0.8629 - val_loss: 0.3486 - val_acc: 0.8702\n",
      "Epoch 18/50\n",
      "697932/697932 [==============================] - 8s 12us/step - loss: 0.3696 - acc: 0.8633 - val_loss: 0.3492 - val_acc: 0.8694\n",
      "Epoch 19/50\n",
      "697932/697932 [==============================] - 8s 12us/step - loss: 0.3670 - acc: 0.8637 - val_loss: 0.3473 - val_acc: 0.8702\n",
      "Epoch 20/50\n",
      "697932/697932 [==============================] - 8s 12us/step - loss: 0.3658 - acc: 0.8646 - val_loss: 0.3464 - val_acc: 0.8705\n",
      "Epoch 21/50\n",
      "697932/697932 [==============================] - 8s 12us/step - loss: 0.3643 - acc: 0.8648 - val_loss: 0.3468 - val_acc: 0.8704\n",
      "Epoch 22/50\n",
      "697932/697932 [==============================] - 8s 12us/step - loss: 0.3629 - acc: 0.8648 - val_loss: 0.3457 - val_acc: 0.8714\n",
      "Epoch 23/50\n",
      "697932/697932 [==============================] - 8s 12us/step - loss: 0.3608 - acc: 0.8654 - val_loss: 0.3451 - val_acc: 0.8717\n",
      "Epoch 24/50\n",
      "697932/697932 [==============================] - 8s 12us/step - loss: 0.3605 - acc: 0.8658 - val_loss: 0.3454 - val_acc: 0.8710\n",
      "Epoch 25/50\n",
      "697932/697932 [==============================] - 8s 12us/step - loss: 0.3587 - acc: 0.8659 - val_loss: 0.3444 - val_acc: 0.8717\n",
      "Epoch 26/50\n",
      "697932/697932 [==============================] - 8s 12us/step - loss: 0.3575 - acc: 0.8661 - val_loss: 0.3444 - val_acc: 0.8710\n",
      "Epoch 27/50\n",
      "697932/697932 [==============================] - 8s 12us/step - loss: 0.3569 - acc: 0.8665 - val_loss: 0.3453 - val_acc: 0.8708\n",
      "Epoch 28/50\n",
      "697932/697932 [==============================] - 8s 12us/step - loss: 0.3559 - acc: 0.8669 - val_loss: 0.3446 - val_acc: 0.8719\n",
      "Epoch 29/50\n",
      "697932/697932 [==============================] - 8s 12us/step - loss: 0.3541 - acc: 0.8675 - val_loss: 0.3438 - val_acc: 0.8714\n",
      "Epoch 30/50\n",
      "697932/697932 [==============================] - 8s 12us/step - loss: 0.3540 - acc: 0.8675 - val_loss: 0.3449 - val_acc: 0.8707\n",
      "Epoch 31/50\n",
      "697932/697932 [==============================] - 8s 12us/step - loss: 0.3525 - acc: 0.8675 - val_loss: 0.3441 - val_acc: 0.8720\n",
      "Epoch 32/50\n",
      "697932/697932 [==============================] - 8s 12us/step - loss: 0.3519 - acc: 0.8679 - val_loss: 0.3427 - val_acc: 0.8721\n",
      "Epoch 33/50\n",
      "697932/697932 [==============================] - 8s 12us/step - loss: 0.3505 - acc: 0.8683 - val_loss: 0.3437 - val_acc: 0.8723\n",
      "Epoch 34/50\n",
      "697932/697932 [==============================] - 8s 12us/step - loss: 0.3498 - acc: 0.8685 - val_loss: 0.3438 - val_acc: 0.8714\n",
      "Epoch 35/50\n",
      "697932/697932 [==============================] - 8s 12us/step - loss: 0.3493 - acc: 0.8687 - val_loss: 0.3425 - val_acc: 0.8727\n",
      "Epoch 36/50\n",
      "697932/697932 [==============================] - 8s 12us/step - loss: 0.3482 - acc: 0.8687 - val_loss: 0.3426 - val_acc: 0.8724\n",
      "Epoch 37/50\n",
      "697932/697932 [==============================] - 8s 12us/step - loss: 0.3478 - acc: 0.8689 - val_loss: 0.3410 - val_acc: 0.8727\n",
      "Epoch 38/50\n",
      "697932/697932 [==============================] - 8s 12us/step - loss: 0.3472 - acc: 0.8695 - val_loss: 0.3418 - val_acc: 0.8728\n",
      "Epoch 39/50\n",
      "697932/697932 [==============================] - 8s 12us/step - loss: 0.3461 - acc: 0.8699 - val_loss: 0.3415 - val_acc: 0.8729\n",
      "Epoch 40/50\n",
      "697932/697932 [==============================] - 8s 12us/step - loss: 0.3453 - acc: 0.8693 - val_loss: 0.3416 - val_acc: 0.8722\n",
      "Epoch 41/50\n",
      "697932/697932 [==============================] - 8s 12us/step - loss: 0.3445 - acc: 0.8702 - val_loss: 0.3414 - val_acc: 0.8727\n",
      "Epoch 42/50\n",
      "697932/697932 [==============================] - 8s 12us/step - loss: 0.3438 - acc: 0.8702 - val_loss: 0.3403 - val_acc: 0.8730\n",
      "Epoch 43/50\n",
      "697932/697932 [==============================] - 8s 12us/step - loss: 0.3437 - acc: 0.8700 - val_loss: 0.3410 - val_acc: 0.8731\n",
      "Epoch 44/50\n",
      "697932/697932 [==============================] - 8s 12us/step - loss: 0.3439 - acc: 0.8704 - val_loss: 0.3409 - val_acc: 0.8719\n",
      "Epoch 45/50\n",
      "697932/697932 [==============================] - 8s 12us/step - loss: 0.3432 - acc: 0.8706 - val_loss: 0.3419 - val_acc: 0.8727\n",
      "Epoch 46/50\n",
      "697932/697932 [==============================] - 8s 12us/step - loss: 0.3423 - acc: 0.8706 - val_loss: 0.3423 - val_acc: 0.8728\n",
      "Epoch 47/50\n",
      "697932/697932 [==============================] - 8s 12us/step - loss: 0.3417 - acc: 0.8706 - val_loss: 0.3431 - val_acc: 0.8718\n",
      "Epoch 48/50\n",
      "697932/697932 [==============================] - 8s 12us/step - loss: 0.3412 - acc: 0.8706 - val_loss: 0.3414 - val_acc: 0.8730\n",
      "Epoch 49/50\n",
      "697932/697932 [==============================] - 8s 12us/step - loss: 0.3411 - acc: 0.8710 - val_loss: 0.3414 - val_acc: 0.8728\n",
      "Epoch 50/50\n",
      "697932/697932 [==============================] - 8s 12us/step - loss: 0.3401 - acc: 0.8711 - val_loss: 0.3426 - val_acc: 0.8722\n",
      "Elapsed time: 418s\n"
     ]
    }
   ],
   "source": [
    "t1 = time.time()\n",
    "fit = model.fit(train_X, train_y, batch_size=batch_size, epochs=epochs, verbose=1, validation_data=(test_X, test_y))\n",
    "t2 = time.time()\n",
    "print('Elapsed time: %ds' % (t2 - t1))"
   ]
  },
  {
   "cell_type": "markdown",
   "metadata": {},
   "source": [
    "### Evaluate the model using the test data:"
   ]
  },
  {
   "cell_type": "code",
   "execution_count": 12,
   "metadata": {},
   "outputs": [
    {
     "name": "stdout",
     "output_type": "stream",
     "text": [
      "116323/116323 [==============================] - 5s 39us/step\n"
     ]
    }
   ],
   "source": [
    "results = model.evaluate(test_X, test_y)"
   ]
  },
  {
   "cell_type": "markdown",
   "metadata": {},
   "source": [
    "### Show the loss and accuracy results:"
   ]
  },
  {
   "cell_type": "code",
   "execution_count": 13,
   "metadata": {},
   "outputs": [
    {
     "name": "stdout",
     "output_type": "stream",
     "text": [
      "Loss: 34.26%, Accuracy: 87.22%\n"
     ]
    }
   ],
   "source": [
    "print('Loss: %.2f%%, Accuracy: %.2f%%' % (results[0]*100, results[1]*100))"
   ]
  },
  {
   "cell_type": "markdown",
   "metadata": {},
   "source": [
    "### Graph the model's loss and accuracy:"
   ]
  },
  {
   "cell_type": "code",
   "execution_count": 14,
   "metadata": {
    "scrolled": false
   },
   "outputs": [
    {
     "data": {
      "image/png": "[encoded data removed]",
      "text/plain": [
       "<Figure size 1152x576 with 2 Axes>"
      ]
     },
     "metadata": {
      "needs_background": "light"
     },
     "output_type": "display_data"
    }
   ],
   "source": [
    "plt.figure(figsize=(12, 6), dpi=96)\n",
    "plt.subplot(1, 2, 1)\n",
    "plt.plot(fit.history['loss'])\n",
    "plt.plot(fit.history['val_loss'])\n",
    "plt.title('Model Loss')\n",
    "plt.xlabel('Epoch')\n",
    "plt.ylabel('Loss')\n",
    "plt.legend(['train', 'test'], loc='upper left')\n",
    "plt.subplot(1, 2, 2)\n",
    "plt.plot(fit.history['acc'])\n",
    "plt.plot(fit.history['val_acc'])\n",
    "plt.title('Model Accuracy')\n",
    "plt.xlabel('Epoch')\n",
    "plt.ylabel('Accuracy')\n",
    "plt.legend(['train', 'test'], loc='upper left')\n",
    "plt.tight_layout()\n",
    "plt.show()"
   ]
  },
  {
   "cell_type": "markdown",
   "metadata": {},
   "source": [
    "### Save the model to disk:"
   ]
  },
  {
   "cell_type": "code",
   "execution_count": 15,
   "metadata": {},
   "outputs": [],
   "source": [
    "model.save(model_path)"
   ]
  },
  {
   "cell_type": "markdown",
   "metadata": {},
   "source": [
    "### Load the model from disk:"
   ]
  },
  {
   "cell_type": "code",
   "execution_count": 16,
   "metadata": {},
   "outputs": [
    {
     "name": "stdout",
     "output_type": "stream",
     "text": [
      "[<keras.layers.convolutional.Conv2D object at 0x7f71a40d5c88>, <keras.layers.convolutional.Conv2D object at 0x7f71a409f2b0>, <keras.layers.pooling.MaxPooling2D object at 0x7f71a4093c88>, <keras.layers.core.Dropout object at 0x7f71a61f5400>, <keras.layers.core.Flatten object at 0x7f71a405ff60>, <keras.layers.core.Dense object at 0x7f71a405fbe0>, <keras.layers.core.Dropout object at 0x7f717c7c12e8>, <keras.layers.core.Dense object at 0x7f717c7c15f8>]\n",
      "116323/116323 [==============================] - 5s 40us/step\n",
      "Loss: 34.26%, Accuracy: 87.22%\n"
     ]
    }
   ],
   "source": [
    "model_new = keras.models.load_model(model_path)\n",
    "print(model_new.layers)\n",
    "results_new = model_new.evaluate(test_X, test_y)\n",
    "print('Loss: %.2f%%, Accuracy: %.2f%%' % (results_new[0]*100, results_new[1]*100))"
   ]
  }
 ],
 "metadata": {
  "kernelspec": {
   "display_name": "Python 3",
   "language": "python",
   "name": "python3"
  },
  "language_info": {
   "codemirror_mode": {
    "name": "ipython",
    "version": 3
   },
   "file_extension": ".py",
   "mimetype": "text/x-python",
   "name": "python",
   "nbconvert_exporter": "python",
   "pygments_lexer": "ipython3",
   "version": "3.6.6"
  }
 },
 "nbformat": 4,
 "nbformat_minor": 2
}
