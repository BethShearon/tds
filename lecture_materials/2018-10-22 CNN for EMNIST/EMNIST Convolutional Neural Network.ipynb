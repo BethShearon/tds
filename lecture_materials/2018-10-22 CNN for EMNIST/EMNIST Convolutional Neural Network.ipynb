{
 "cells": [
  {
   "cell_type": "markdown",
   "metadata": {},
   "source": [
    "# Convolutional Neural Network (CNN) for the EMNIST dataset\n",
    "\n",
    "-----\n",
    "### EMNIST dataset: https://www.nist.gov/itl/iad/image-group/emnist-dataset\n",
    "### Direct download: http://www.itl.nist.gov/iaui/vip/cs_links/EMNIST/gzip.zip\n",
    "-----\n",
    "#### A very well-written introduction to Convolutional Neural Networks: [Part 1](https://adeshpande3.github.io/adeshpande3.github.io/A-Beginner's-Guide-To-Understanding-Convolutional-Neural-Networks/) [Part 2](https://adeshpande3.github.io/adeshpande3.github.io/A-Beginner's-Guide-To-Understanding-Convolutional-Neural-Networks-Part-2/) [Part 3](https://adeshpande3.github.io/adeshpande3.github.io/The-9-Deep-Learning-Papers-You-Need-To-Know-About.html)"
   ]
  },
  {
   "cell_type": "markdown",
   "metadata": {},
   "source": [
    "### Import necessary modules:"
   ]
  },
  {
   "cell_type": "code",
   "execution_count": 1,
   "metadata": {},
   "outputs": [
    {
     "name": "stderr",
     "output_type": "stream",
     "text": [
      "Using TensorFlow backend.\n"
     ]
    }
   ],
   "source": [
    "import os\n",
    "#os.environ['CUDA_VISIBLE_DEVICES'] = '' # hides the GPU from tensorflow (for science)\n",
    "\n",
    "import gzip\n",
    "import keras\n",
    "import matplotlib.pyplot as plt\n",
    "import numpy as np\n",
    "import random\n",
    "import struct\n",
    "import time"
   ]
  },
  {
   "cell_type": "markdown",
   "metadata": {},
   "source": [
    "### List computing devices available to tensorflow:"
   ]
  },
  {
   "cell_type": "code",
   "execution_count": 2,
   "metadata": {},
   "outputs": [
    {
     "data": {
      "text/plain": [
       "['/device:CPU:0', '/device:GPU:0']"
      ]
     },
     "execution_count": 2,
     "metadata": {},
     "output_type": "execute_result"
    }
   ],
   "source": [
    "from tensorflow.python.client import device_lib\n",
    "device_list = device_lib.list_local_devices()\n",
    "[x.name for x in device_list]"
   ]
  },
  {
   "cell_type": "markdown",
   "metadata": {},
   "source": [
    "### Set up global configuration for the notebook:"
   ]
  },
  {
   "cell_type": "code",
   "execution_count": 3,
   "metadata": {},
   "outputs": [],
   "source": [
    "%matplotlib inline\n",
    "random.seed(12345)\n",
    "\n",
    "image_dir = '/home/jaeger/dev/python/mnist/gzip'\n",
    "labels = '0123456789ABCDEFGHIJKLMNOPQRSTUVWXYZabcdefghijklmnopqrstuvwxyz'\n",
    "categories = len(labels)\n",
    "\n",
    "batch_size = 128\n",
    "epochs = 10"
   ]
  },
  {
   "cell_type": "markdown",
   "metadata": {},
   "source": [
    "### Define helper functions and read the dataset from disk:"
   ]
  },
  {
   "cell_type": "code",
   "execution_count": 4,
   "metadata": {},
   "outputs": [
    {
     "name": "stdout",
     "output_type": "stream",
     "text": [
      "Processing data from /home/jaeger/dev/python/mnist/gzip/emnist-byclass-train-images-idx3-ubyte.gz.\n",
      "Dimensions: 3\n",
      "Shape: (697932, 28, 28)\n",
      "Processing data from /home/jaeger/dev/python/mnist/gzip/emnist-byclass-train-labels-idx1-ubyte.gz.\n",
      "Dimensions: 1\n",
      "Shape: (697932,)\n",
      "Processing data from /home/jaeger/dev/python/mnist/gzip/emnist-byclass-test-images-idx3-ubyte.gz.\n",
      "Dimensions: 3\n",
      "Shape: (116323, 28, 28)\n",
      "Processing data from /home/jaeger/dev/python/mnist/gzip/emnist-byclass-test-labels-idx1-ubyte.gz.\n",
      "Dimensions: 1\n",
      "Shape: (116323,)\n"
     ]
    }
   ],
   "source": [
    "def read_idx(filename):\n",
    "    # the idx file format can be found at the bottom of http://yann.lecun.com/exdb/mnist/\n",
    "    print('Processing data from %s.' % filename)\n",
    "    with gzip.open(filename, 'rb') as f:\n",
    "        # read the \"magic number\" first\n",
    "        z, dtype, dim = struct.unpack('>HBB', f.read(4))\n",
    "        print('Dimensions:', dim)\n",
    "        # get the shape (size in each dimension) of the data\n",
    "        shape = tuple(struct.unpack('>I', f.read(4))[0] for d in range(dim))\n",
    "        print('Shape:', shape)\n",
    "        # return the data as a reshaped numpy array\n",
    "        return np.frombuffer(f.read(), dtype=np.uint8).reshape(shape)\n",
    "\n",
    "def load_emnist():\n",
    "    # the dataset can be found here: http://www.itl.nist.gov/iaui/vip/cs_links/EMNIST/gzip.zip\n",
    "    train_images = os.path.join(image_dir, 'emnist-byclass-train-images-idx3-ubyte.gz')\n",
    "    train_labels = os.path.join(image_dir, 'emnist-byclass-train-labels-idx1-ubyte.gz')\n",
    "    test_images = os.path.join(image_dir, 'emnist-byclass-test-images-idx3-ubyte.gz')\n",
    "    test_labels = os.path.join(image_dir, 'emnist-byclass-test-labels-idx1-ubyte.gz')\n",
    "\n",
    "    train_X = read_idx(train_images)\n",
    "    train_y = read_idx(train_labels)\n",
    "    test_X = read_idx(test_images)\n",
    "    test_y = read_idx(test_labels)\n",
    "    \n",
    "    return (train_X, train_y, test_X, test_y)\n",
    "\n",
    "raw_train_X, raw_train_y, raw_test_X, raw_test_y = load_emnist()"
   ]
  },
  {
   "cell_type": "markdown",
   "metadata": {},
   "source": [
    "### Display a random image to verify that the data loaded correctly:"
   ]
  },
  {
   "cell_type": "code",
   "execution_count": 5,
   "metadata": {},
   "outputs": [
    {
     "name": "stdout",
     "output_type": "stream",
     "text": [
      "(697932, 28, 28) (697932,) (116323, 28, 28) (116323,)\n"
     ]
    },
    {
     "data": {
      "image/png": "[encoded data removed]",
      "text/plain": [
       "<Figure size 432x288 with 1 Axes>"
      ]
     },
     "metadata": {},
     "output_type": "display_data"
    }
   ],
   "source": [
    "print(raw_train_X.shape, raw_train_y.shape, raw_test_X.shape, raw_test_y.shape)\n",
    "\n",
    "i = random.randint(0, raw_train_X.shape[0])\n",
    "fig, ax = plt.subplots()\n",
    "ax.clear()\n",
    "ax.imshow(raw_train_X[i].T, cmap='gray')\n",
    "title = 'label = %d = %s' % (raw_train_y[i], labels[raw_train_y[i]])\n",
    "ax.set_title(title, fontsize=20)\n",
    "plt.show()"
   ]
  },
  {
   "cell_type": "markdown",
   "metadata": {},
   "source": [
    "### Normalize the training and testing input data:"
   ]
  },
  {
   "cell_type": "code",
   "execution_count": 6,
   "metadata": {},
   "outputs": [],
   "source": [
    "train_X = raw_train_X.astype('float32')\n",
    "test_X = raw_test_X.astype('float32')\n",
    "\n",
    "train_X /= 255\n",
    "test_X /= 255"
   ]
  },
  {
   "cell_type": "markdown",
   "metadata": {},
   "source": [
    "### Reshape the input data for input to the CNN:"
   ]
  },
  {
   "cell_type": "code",
   "execution_count": 7,
   "metadata": {},
   "outputs": [],
   "source": [
    "train_X = train_X.reshape(train_X.shape[0], 28, 28, 1)\n",
    "test_X = test_X.reshape(test_X.shape[0], 28, 28, 1)"
   ]
  },
  {
   "cell_type": "markdown",
   "metadata": {},
   "source": [
    "### One-hot encode the output (labels) data:"
   ]
  },
  {
   "cell_type": "code",
   "execution_count": 8,
   "metadata": {},
   "outputs": [],
   "source": [
    "train_y = keras.utils.np_utils.to_categorical(raw_train_y)\n",
    "test_y = keras.utils.np_utils.to_categorical(raw_test_y)"
   ]
  },
  {
   "cell_type": "markdown",
   "metadata": {},
   "source": [
    "### Define the CNN model:"
   ]
  },
  {
   "cell_type": "code",
   "execution_count": 9,
   "metadata": {},
   "outputs": [],
   "source": [
    "model = keras.models.Sequential()\n",
    "model.add(keras.layers.Conv2D(32,\n",
    "                kernel_size=(5, 5),\n",
    "                strides=(2, 2),\n",
    "                input_shape=(28, 28, 1),\n",
    "                activation='relu'))\n",
    "model.add(keras.layers.Conv2D(64,\n",
    "                kernel_size=(3, 3),\n",
    "                activation='relu'))\n",
    "model.add(keras.layers.MaxPooling2D(pool_size=(2, 2)))\n",
    "model.add(keras.layers.Dropout(0.25))\n",
    "model.add(keras.layers.Flatten())\n",
    "model.add(keras.layers.Dense(128, activation='relu'))\n",
    "model.add(keras.layers.Dropout(0.25))\n",
    "model.add(keras.layers.Dense(categories, activation='softmax'))"
   ]
  },
  {
   "cell_type": "markdown",
   "metadata": {},
   "source": [
    "### Compile the model:"
   ]
  },
  {
   "cell_type": "code",
   "execution_count": 10,
   "metadata": {},
   "outputs": [],
   "source": [
    "model.compile(loss='categorical_crossentropy', optimizer='adam', metrics=['accuracy'])"
   ]
  },
  {
   "cell_type": "markdown",
   "metadata": {},
   "source": [
    "### Train the model, saving historical data to graph:"
   ]
  },
  {
   "cell_type": "code",
   "execution_count": 11,
   "metadata": {},
   "outputs": [
    {
     "name": "stdout",
     "output_type": "stream",
     "text": [
      "Train on 697932 samples, validate on 116323 samples\n",
      "Epoch 1/10\n",
      "697932/697932 [==============================] - 55s 78us/step - loss: 0.6061 - acc: 0.8027 - val_loss: 0.4016 - val_acc: 0.8540\n",
      "Epoch 2/10\n",
      "697932/697932 [==============================] - 54s 77us/step - loss: 0.4479 - acc: 0.8424 - val_loss: 0.3810 - val_acc: 0.8600\n",
      "Epoch 3/10\n",
      "697932/697932 [==============================] - 53s 77us/step - loss: 0.4236 - acc: 0.8487 - val_loss: 0.3687 - val_acc: 0.8634\n",
      "Epoch 4/10\n",
      "697932/697932 [==============================] - 54s 77us/step - loss: 0.4095 - acc: 0.8525 - val_loss: 0.3654 - val_acc: 0.8652\n",
      "Epoch 5/10\n",
      "697932/697932 [==============================] - 54s 77us/step - loss: 0.3998 - acc: 0.8551 - val_loss: 0.3607 - val_acc: 0.8659\n",
      "Epoch 6/10\n",
      "697932/697932 [==============================] - 54s 77us/step - loss: 0.3943 - acc: 0.8565 - val_loss: 0.3585 - val_acc: 0.8665\n",
      "Epoch 7/10\n",
      "697932/697932 [==============================] - 53s 76us/step - loss: 0.3886 - acc: 0.8579 - val_loss: 0.3557 - val_acc: 0.8675\n",
      "Epoch 8/10\n",
      "697932/697932 [==============================] - 53s 76us/step - loss: 0.3843 - acc: 0.8591 - val_loss: 0.3538 - val_acc: 0.8679\n",
      "Epoch 9/10\n",
      "697932/697932 [==============================] - 54s 77us/step - loss: 0.3811 - acc: 0.8598 - val_loss: 0.3540 - val_acc: 0.8678\n",
      "Epoch 10/10\n",
      "697932/697932 [==============================] - 58s 83us/step - loss: 0.3784 - acc: 0.8609 - val_loss: 0.3519 - val_acc: 0.8682\n",
      "Elapsed time: 541s\n"
     ]
    }
   ],
   "source": [
    "t1 = time.time()\n",
    "fit = model.fit(train_X, train_y, batch_size=batch_size, epochs=epochs, verbose=1, validation_data=(test_X, test_y))\n",
    "t2 = time.time()\n",
    "print('Elapsed time: %ds' % (t2 - t1))"
   ]
  },
  {
   "cell_type": "markdown",
   "metadata": {},
   "source": [
    "### Evaluate the model using the test data:"
   ]
  },
  {
   "cell_type": "code",
   "execution_count": 12,
   "metadata": {},
   "outputs": [
    {
     "name": "stdout",
     "output_type": "stream",
     "text": [
      "116323/116323 [==============================] - 6s 48us/step\n"
     ]
    }
   ],
   "source": [
    "results = model.evaluate(test_X, test_y)"
   ]
  },
  {
   "cell_type": "markdown",
   "metadata": {},
   "source": [
    "### Show the loss and accuracy results:"
   ]
  },
  {
   "cell_type": "code",
   "execution_count": 13,
   "metadata": {},
   "outputs": [
    {
     "name": "stdout",
     "output_type": "stream",
     "text": [
      "Loss: 35.19%, Accuracy: 86.82%\n"
     ]
    }
   ],
   "source": [
    "print('Loss: %.2f%%, Accuracy: %.2f%%' % (results[0]*100, results[1]*100))"
   ]
  },
  {
   "cell_type": "markdown",
   "metadata": {},
   "source": [
    "### Graph the model's loss and accuracy:"
   ]
  },
  {
   "cell_type": "code",
   "execution_count": 14,
   "metadata": {},
   "outputs": [
    {
     "data": {
      "image/png": "[encoded data removed]",
      "text/plain": [
       "<Figure size 1152x576 with 2 Axes>"
      ]
     },
     "metadata": {},
     "output_type": "display_data"
    }
   ],
   "source": [
    "plt.figure(figsize=(12, 6), dpi=96)\n",
    "plt.subplot(1, 2, 1)\n",
    "plt.plot(fit.history['loss'])\n",
    "plt.plot(fit.history['val_loss'])\n",
    "plt.title('Model Loss')\n",
    "plt.xlabel('Epoch')\n",
    "plt.ylabel('Loss')\n",
    "plt.legend(['train', 'test'], loc='upper left')\n",
    "plt.subplot(1, 2, 2)\n",
    "plt.plot(fit.history['acc'])\n",
    "plt.plot(fit.history['val_acc'])\n",
    "plt.title('Model Accuracy')\n",
    "plt.xlabel('Epoch')\n",
    "plt.ylabel('Accuracy')\n",
    "plt.legend(['train', 'test'], loc='upper left')\n",
    "plt.tight_layout()\n",
    "plt.show()"
   ]
  }
 ],
 "metadata": {
  "kernelspec": {
   "display_name": "Python 3",
   "language": "python",
   "name": "python3"
  },
  "language_info": {
   "codemirror_mode": {
    "name": "ipython",
    "version": 3
   },
   "file_extension": ".py",
   "mimetype": "text/x-python",
   "name": "python",
   "nbconvert_exporter": "python",
   "pygments_lexer": "ipython3",
   "version": "3.6.6"
  }
 },
 "nbformat": 4,
 "nbformat_minor": 2
}
