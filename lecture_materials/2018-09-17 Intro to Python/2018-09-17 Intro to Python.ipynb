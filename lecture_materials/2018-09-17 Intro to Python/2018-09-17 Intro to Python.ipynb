{
 "cells": [
  {
   "cell_type": "markdown",
   "metadata": {},
   "source": [
    "# Goals:\n",
    "- ### Saving work with Git\n",
    "- ### Practice basic python commands\n",
    "\n",
    "***\n",
    "\n",
    "### Reminders:\n",
    "- 'Pull' the latest class materials\n",
    "    - Navigate to your project folder in __Git Bash__ (for Windows) or __Terminal__ (for Mac + Linux) using the `cd` command\n",
    "    - Enter `git pull` command to pull the latest version of the repo\n",
    "- Activate your environment at the beginning of workshop:\n",
    "    - Windows: `activate tds`\n",
    "    - Linux, MacOS: `source activate tds`\n",
    "- Start Jupyter with command `jupyter notebook`\n",
    "- #### Ask Questions and help your neighbor!\n",
    "    \n",
    "*** \n",
    "\n",
    "### Intro to Python - Resources:\n",
    "- https://learnpython.org/ \n",
    "- Python: https://docs.python.org/3/tutorial\n",
    "- Codecademy (free + paid): https://www.codecademy.com/\n",
    "- YouTube (personal preference):\n",
    "    - Derek Banas:\n",
    "        - Python Overview Video: https://www.youtube.com/watch?v=N4mEzFDjqtA\n",
    "        - Python Playlist: https://www.youtube.com/watch?v=nwjAHQERL08&list=PLGLfVvz_LVvTn3cK5e6LjhgGiSeVlIRwt\n",
    "    - Sentdex (More advanced, but still very useful): https://www.youtube.com/user/sentdex/playlists\n",
    "- Stack Overflow (Especially useful for troubleshooting): https://stackoverflow.com/questions/tagged/python?sort=frequent&pageSize=15\n",
    "- (If you know of others that you have found useful, let me know!)"
   ]
  },
  {
   "cell_type": "markdown",
   "metadata": {},
   "source": [
    "***"
   ]
  },
  {
   "cell_type": "markdown",
   "metadata": {},
   "source": [
    "## Saving Work with Git\n",
    "#### Note: everything in this chunk takes place in the Git bash/terminal\n",
    "\n",
    "In collaborative settings, Git is used to maintain *Version Control*, which is a way to keep track of multiple changes to multiple scripts by multiple people in __one__ project. \n",
    "\n",
    "One way to do so is by *creating copies* of the project through *branches*. Branches allow for separate tracking versions of the project, to be re-combined later. \n",
    "\n",
    "To create a new branch, type in your terminal:\n",
    "> `git checkout -b <Whatever_you_want_to_call_your_branch>`\n",
    "\n",
    "- The *checkout* command changes your working version of the project\n",
    "- The *-b* option means to create a new branch, with the name you give it (in place of `<Whatever_you_want_to_call_your_branch>`)\n",
    "\n",
    "To view your changes \n",
    "> `git status`\n",
    "\n",
    "To save your work:\n",
    "> `git add .`\n",
    "\n",
    "> `git commit -m \"<A message to describe your changes>\"`"
   ]
  },
  {
   "cell_type": "markdown",
   "metadata": {},
   "source": [
    "***"
   ]
  },
  {
   "cell_type": "markdown",
   "metadata": {},
   "source": [
    "## Practice Basic Python Commands"
   ]
  },
  {
   "cell_type": "code",
   "execution_count": null,
   "metadata": {},
   "outputs": [],
   "source": []
  },
  {
   "cell_type": "markdown",
   "metadata": {},
   "source": [
    "## (Exit)\n",
    "- Practice on your own using resources listed above!"
   ]
  }
 ],
 "metadata": {
  "kernelspec": {
   "display_name": "Python 3",
   "language": "python",
   "name": "python3"
  },
  "language_info": {
   "codemirror_mode": {
    "name": "ipython",
    "version": 3
   },
   "file_extension": ".py",
   "mimetype": "text/x-python",
   "name": "python",
   "nbconvert_exporter": "python",
   "pygments_lexer": "ipython3",
   "version": "3.5.4"
  }
 },
 "nbformat": 4,
 "nbformat_minor": 2
}
